{
  "cells": [
    {
      "cell_type": "markdown",
      "metadata": {
        "id": "view-in-github",
        "colab_type": "text"
      },
      "source": [
        "<a href=\"https://colab.research.google.com/github/shilpa-23/Main-Project/blob/main/DDoS_ORG.ipynb\" target=\"_parent\"><img src=\"https://colab.research.google.com/assets/colab-badge.svg\" alt=\"Open In Colab\"/></a>"
      ]
    },
    {
      "cell_type": "code",
      "execution_count": null,
      "metadata": {
        "id": "ZnvUepyCQ-FQ"
      },
      "outputs": [],
      "source": [
        "import pandas as pd\n",
        "import numpy as np"
      ]
    },
    {
      "cell_type": "code",
      "execution_count": null,
      "metadata": {
        "colab": {
          "base_uri": "https://localhost:8080/"
        },
        "id": "CBKTzUcHuJ7J",
        "outputId": "3f29ed91-e823-4d5f-ad0a-275b39ae048c"
      },
      "outputs": [
        {
          "output_type": "stream",
          "name": "stderr",
          "text": [
            "/usr/local/lib/python3.7/dist-packages/IPython/core/interactiveshell.py:2882: DtypeWarning: Columns (8,10) have mixed types.Specify dtype option on import or set low_memory=False.\n",
            "  exec(code_obj, self.user_global_ns, self.user_ns)\n"
          ]
        }
      ],
      "source": [
        "df_orginal = pd.read_csv(\"/content/drive/MyDrive/DDoSdata.csv\")"
      ]
    },
    {
      "cell_type": "code",
      "execution_count": null,
      "metadata": {
        "id": "SuyB0C9Tko8-"
      },
      "outputs": [],
      "source": [
        "df = df_orginal.copy()"
      ]
    },
    {
      "cell_type": "code",
      "execution_count": null,
      "metadata": {
        "colab": {
          "base_uri": "https://localhost:8080/",
          "height": 317
        },
        "id": "VB14OsyWkvdd",
        "outputId": "d5a62bc0-44ba-4b8b-d9b5-17bc5ec8f30a"
      },
      "outputs": [
        {
          "output_type": "execute_result",
          "data": {
            "text/plain": [
              "   Unnamed: 0  pkSeqID         stime flgs  flgs_number proto  proto_number  \\\n",
              "0     1650261  1650261  1.528103e+09    e            1   tcp             1   \n",
              "1     1650262  1650262  1.528103e+09    e            1   tcp             1   \n",
              "2     1650263  1650263  1.528103e+09    e            1   tcp             1   \n",
              "3     1650264  1650264  1.528103e+09    e            1   tcp             1   \n",
              "4     1650265  1650265  1.528103e+09    e            1   tcp             1   \n",
              "\n",
              "             saddr  sport          daddr  ... AR_P_Proto_P_DstIP  \\\n",
              "0  192.168.100.150  54110  192.168.100.3  ...            1.21662   \n",
              "1  192.168.100.150  54112  192.168.100.3  ...            1.21662   \n",
              "2  192.168.100.150  54114  192.168.100.3  ...            1.21662   \n",
              "3  192.168.100.150  54116  192.168.100.3  ...            1.21662   \n",
              "4  192.168.100.150  54118  192.168.100.3  ...            1.21662   \n",
              "\n",
              "   N_IN_Conn_P_DstIP  N_IN_Conn_P_SrcIP AR_P_Proto_P_Sport  \\\n",
              "0                 40                 38            1.56093   \n",
              "1                 40                 38            1.56107   \n",
              "2                 40                 38            1.24980   \n",
              "3                 40                 38            1.24986   \n",
              "4                 40                 38            1.24991   \n",
              "\n",
              "   AR_P_Proto_P_Dport  Pkts_P_State_P_Protocol_P_DestIP  \\\n",
              "0             1.21662                               328   \n",
              "1             1.21662                               328   \n",
              "2             1.21662                               328   \n",
              "3             1.21662                               328   \n",
              "4             1.21662                               328   \n",
              "\n",
              "   Pkts_P_State_P_Protocol_P_SrcIP  attack  category  subcategory  \n",
              "0                              308       1      DDoS         HTTP  \n",
              "1                              308       1      DDoS         HTTP  \n",
              "2                              308       1      DDoS         HTTP  \n",
              "3                              308       1      DDoS         HTTP  \n",
              "4                              308       1      DDoS         HTTP  \n",
              "\n",
              "[5 rows x 47 columns]"
            ],
            "text/html": [
              "\n",
              "  <div id=\"df-3e378561-1c40-46eb-a442-48134fb44e2b\">\n",
              "    <div class=\"colab-df-container\">\n",
              "      <div>\n",
              "<style scoped>\n",
              "    .dataframe tbody tr th:only-of-type {\n",
              "        vertical-align: middle;\n",
              "    }\n",
              "\n",
              "    .dataframe tbody tr th {\n",
              "        vertical-align: top;\n",
              "    }\n",
              "\n",
              "    .dataframe thead th {\n",
              "        text-align: right;\n",
              "    }\n",
              "</style>\n",
              "<table border=\"1\" class=\"dataframe\">\n",
              "  <thead>\n",
              "    <tr style=\"text-align: right;\">\n",
              "      <th></th>\n",
              "      <th>Unnamed: 0</th>\n",
              "      <th>pkSeqID</th>\n",
              "      <th>stime</th>\n",
              "      <th>flgs</th>\n",
              "      <th>flgs_number</th>\n",
              "      <th>proto</th>\n",
              "      <th>proto_number</th>\n",
              "      <th>saddr</th>\n",
              "      <th>sport</th>\n",
              "      <th>daddr</th>\n",
              "      <th>...</th>\n",
              "      <th>AR_P_Proto_P_DstIP</th>\n",
              "      <th>N_IN_Conn_P_DstIP</th>\n",
              "      <th>N_IN_Conn_P_SrcIP</th>\n",
              "      <th>AR_P_Proto_P_Sport</th>\n",
              "      <th>AR_P_Proto_P_Dport</th>\n",
              "      <th>Pkts_P_State_P_Protocol_P_DestIP</th>\n",
              "      <th>Pkts_P_State_P_Protocol_P_SrcIP</th>\n",
              "      <th>attack</th>\n",
              "      <th>category</th>\n",
              "      <th>subcategory</th>\n",
              "    </tr>\n",
              "  </thead>\n",
              "  <tbody>\n",
              "    <tr>\n",
              "      <th>0</th>\n",
              "      <td>1650261</td>\n",
              "      <td>1650261</td>\n",
              "      <td>1.528103e+09</td>\n",
              "      <td>e</td>\n",
              "      <td>1</td>\n",
              "      <td>tcp</td>\n",
              "      <td>1</td>\n",
              "      <td>192.168.100.150</td>\n",
              "      <td>54110</td>\n",
              "      <td>192.168.100.3</td>\n",
              "      <td>...</td>\n",
              "      <td>1.21662</td>\n",
              "      <td>40</td>\n",
              "      <td>38</td>\n",
              "      <td>1.56093</td>\n",
              "      <td>1.21662</td>\n",
              "      <td>328</td>\n",
              "      <td>308</td>\n",
              "      <td>1</td>\n",
              "      <td>DDoS</td>\n",
              "      <td>HTTP</td>\n",
              "    </tr>\n",
              "    <tr>\n",
              "      <th>1</th>\n",
              "      <td>1650262</td>\n",
              "      <td>1650262</td>\n",
              "      <td>1.528103e+09</td>\n",
              "      <td>e</td>\n",
              "      <td>1</td>\n",
              "      <td>tcp</td>\n",
              "      <td>1</td>\n",
              "      <td>192.168.100.150</td>\n",
              "      <td>54112</td>\n",
              "      <td>192.168.100.3</td>\n",
              "      <td>...</td>\n",
              "      <td>1.21662</td>\n",
              "      <td>40</td>\n",
              "      <td>38</td>\n",
              "      <td>1.56107</td>\n",
              "      <td>1.21662</td>\n",
              "      <td>328</td>\n",
              "      <td>308</td>\n",
              "      <td>1</td>\n",
              "      <td>DDoS</td>\n",
              "      <td>HTTP</td>\n",
              "    </tr>\n",
              "    <tr>\n",
              "      <th>2</th>\n",
              "      <td>1650263</td>\n",
              "      <td>1650263</td>\n",
              "      <td>1.528103e+09</td>\n",
              "      <td>e</td>\n",
              "      <td>1</td>\n",
              "      <td>tcp</td>\n",
              "      <td>1</td>\n",
              "      <td>192.168.100.150</td>\n",
              "      <td>54114</td>\n",
              "      <td>192.168.100.3</td>\n",
              "      <td>...</td>\n",
              "      <td>1.21662</td>\n",
              "      <td>40</td>\n",
              "      <td>38</td>\n",
              "      <td>1.24980</td>\n",
              "      <td>1.21662</td>\n",
              "      <td>328</td>\n",
              "      <td>308</td>\n",
              "      <td>1</td>\n",
              "      <td>DDoS</td>\n",
              "      <td>HTTP</td>\n",
              "    </tr>\n",
              "    <tr>\n",
              "      <th>3</th>\n",
              "      <td>1650264</td>\n",
              "      <td>1650264</td>\n",
              "      <td>1.528103e+09</td>\n",
              "      <td>e</td>\n",
              "      <td>1</td>\n",
              "      <td>tcp</td>\n",
              "      <td>1</td>\n",
              "      <td>192.168.100.150</td>\n",
              "      <td>54116</td>\n",
              "      <td>192.168.100.3</td>\n",
              "      <td>...</td>\n",
              "      <td>1.21662</td>\n",
              "      <td>40</td>\n",
              "      <td>38</td>\n",
              "      <td>1.24986</td>\n",
              "      <td>1.21662</td>\n",
              "      <td>328</td>\n",
              "      <td>308</td>\n",
              "      <td>1</td>\n",
              "      <td>DDoS</td>\n",
              "      <td>HTTP</td>\n",
              "    </tr>\n",
              "    <tr>\n",
              "      <th>4</th>\n",
              "      <td>1650265</td>\n",
              "      <td>1650265</td>\n",
              "      <td>1.528103e+09</td>\n",
              "      <td>e</td>\n",
              "      <td>1</td>\n",
              "      <td>tcp</td>\n",
              "      <td>1</td>\n",
              "      <td>192.168.100.150</td>\n",
              "      <td>54118</td>\n",
              "      <td>192.168.100.3</td>\n",
              "      <td>...</td>\n",
              "      <td>1.21662</td>\n",
              "      <td>40</td>\n",
              "      <td>38</td>\n",
              "      <td>1.24991</td>\n",
              "      <td>1.21662</td>\n",
              "      <td>328</td>\n",
              "      <td>308</td>\n",
              "      <td>1</td>\n",
              "      <td>DDoS</td>\n",
              "      <td>HTTP</td>\n",
              "    </tr>\n",
              "  </tbody>\n",
              "</table>\n",
              "<p>5 rows × 47 columns</p>\n",
              "</div>\n",
              "      <button class=\"colab-df-convert\" onclick=\"convertToInteractive('df-3e378561-1c40-46eb-a442-48134fb44e2b')\"\n",
              "              title=\"Convert this dataframe to an interactive table.\"\n",
              "              style=\"display:none;\">\n",
              "        \n",
              "  <svg xmlns=\"http://www.w3.org/2000/svg\" height=\"24px\"viewBox=\"0 0 24 24\"\n",
              "       width=\"24px\">\n",
              "    <path d=\"M0 0h24v24H0V0z\" fill=\"none\"/>\n",
              "    <path d=\"M18.56 5.44l.94 2.06.94-2.06 2.06-.94-2.06-.94-.94-2.06-.94 2.06-2.06.94zm-11 1L8.5 8.5l.94-2.06 2.06-.94-2.06-.94L8.5 2.5l-.94 2.06-2.06.94zm10 10l.94 2.06.94-2.06 2.06-.94-2.06-.94-.94-2.06-.94 2.06-2.06.94z\"/><path d=\"M17.41 7.96l-1.37-1.37c-.4-.4-.92-.59-1.43-.59-.52 0-1.04.2-1.43.59L10.3 9.45l-7.72 7.72c-.78.78-.78 2.05 0 2.83L4 21.41c.39.39.9.59 1.41.59.51 0 1.02-.2 1.41-.59l7.78-7.78 2.81-2.81c.8-.78.8-2.07 0-2.86zM5.41 20L4 18.59l7.72-7.72 1.47 1.35L5.41 20z\"/>\n",
              "  </svg>\n",
              "      </button>\n",
              "      \n",
              "  <style>\n",
              "    .colab-df-container {\n",
              "      display:flex;\n",
              "      flex-wrap:wrap;\n",
              "      gap: 12px;\n",
              "    }\n",
              "\n",
              "    .colab-df-convert {\n",
              "      background-color: #E8F0FE;\n",
              "      border: none;\n",
              "      border-radius: 50%;\n",
              "      cursor: pointer;\n",
              "      display: none;\n",
              "      fill: #1967D2;\n",
              "      height: 32px;\n",
              "      padding: 0 0 0 0;\n",
              "      width: 32px;\n",
              "    }\n",
              "\n",
              "    .colab-df-convert:hover {\n",
              "      background-color: #E2EBFA;\n",
              "      box-shadow: 0px 1px 2px rgba(60, 64, 67, 0.3), 0px 1px 3px 1px rgba(60, 64, 67, 0.15);\n",
              "      fill: #174EA6;\n",
              "    }\n",
              "\n",
              "    [theme=dark] .colab-df-convert {\n",
              "      background-color: #3B4455;\n",
              "      fill: #D2E3FC;\n",
              "    }\n",
              "\n",
              "    [theme=dark] .colab-df-convert:hover {\n",
              "      background-color: #434B5C;\n",
              "      box-shadow: 0px 1px 3px 1px rgba(0, 0, 0, 0.15);\n",
              "      filter: drop-shadow(0px 1px 2px rgba(0, 0, 0, 0.3));\n",
              "      fill: #FFFFFF;\n",
              "    }\n",
              "  </style>\n",
              "\n",
              "      <script>\n",
              "        const buttonEl =\n",
              "          document.querySelector('#df-3e378561-1c40-46eb-a442-48134fb44e2b button.colab-df-convert');\n",
              "        buttonEl.style.display =\n",
              "          google.colab.kernel.accessAllowed ? 'block' : 'none';\n",
              "\n",
              "        async function convertToInteractive(key) {\n",
              "          const element = document.querySelector('#df-3e378561-1c40-46eb-a442-48134fb44e2b');\n",
              "          const dataTable =\n",
              "            await google.colab.kernel.invokeFunction('convertToInteractive',\n",
              "                                                     [key], {});\n",
              "          if (!dataTable) return;\n",
              "\n",
              "          const docLinkHtml = 'Like what you see? Visit the ' +\n",
              "            '<a target=\"_blank\" href=https://colab.research.google.com/notebooks/data_table.ipynb>data table notebook</a>'\n",
              "            + ' to learn more about interactive tables.';\n",
              "          element.innerHTML = '';\n",
              "          dataTable['output_type'] = 'display_data';\n",
              "          await google.colab.output.renderOutput(dataTable, element);\n",
              "          const docLink = document.createElement('div');\n",
              "          docLink.innerHTML = docLinkHtml;\n",
              "          element.appendChild(docLink);\n",
              "        }\n",
              "      </script>\n",
              "    </div>\n",
              "  </div>\n",
              "  "
            ]
          },
          "metadata": {},
          "execution_count": 5
        }
      ],
      "source": [
        "df.head()"
      ]
    },
    {
      "cell_type": "code",
      "execution_count": null,
      "metadata": {
        "id": "8ClAq5-yk1-K"
      },
      "outputs": [],
      "source": [
        "df.rename(columns = {'mean':'average_dur', 'stddev':'stddev_dur', \n",
        "                              'sum':'total_dur','min':'min_dur','max':'max_dur'}, inplace = True) "
      ]
    },
    {
      "cell_type": "code",
      "execution_count": null,
      "metadata": {
        "colab": {
          "base_uri": "https://localhost:8080/"
        },
        "id": "x8Fl1aejk6WD",
        "outputId": "7ef07c4d-879f-467b-b2a3-7a630322f561"
      },
      "outputs": [
        {
          "output_type": "execute_result",
          "data": {
            "text/plain": [
              "array(['tcp', 'arp', 'udp', 'icmp', 'ipv6-icmp'], dtype=object)"
            ]
          },
          "metadata": {},
          "execution_count": 7
        }
      ],
      "source": [
        "df.proto.unique()"
      ]
    },
    {
      "cell_type": "code",
      "execution_count": null,
      "metadata": {
        "id": "ztnQ6RECk-5m"
      },
      "outputs": [],
      "source": [
        "df_ml = df.copy()"
      ]
    },
    {
      "cell_type": "code",
      "execution_count": null,
      "metadata": {
        "id": "NAmVhM-OlIf0"
      },
      "outputs": [],
      "source": [
        "df.drop(['Unnamed: 0','pkSeqID'], axis=1, inplace=True)"
      ]
    },
    {
      "cell_type": "code",
      "execution_count": null,
      "metadata": {
        "id": "W_hqAoRdlOXI"
      },
      "outputs": [],
      "source": [
        "df.drop(['flgs', 'flgs_number'], axis=1, inplace=True)"
      ]
    },
    {
      "cell_type": "code",
      "execution_count": null,
      "metadata": {
        "id": "S1Eh3Xb1lWPC"
      },
      "outputs": [],
      "source": [
        "df.drop(['stime', 'ltime'], axis=1, inplace=True)"
      ]
    },
    {
      "cell_type": "code",
      "execution_count": null,
      "metadata": {
        "id": "OmIhL7QJlbCD"
      },
      "outputs": [],
      "source": [
        "df = df[df.proto != 'icmp']"
      ]
    },
    {
      "cell_type": "code",
      "execution_count": null,
      "metadata": {
        "id": "y5Z68AH_lhvu"
      },
      "outputs": [],
      "source": [
        "df[\"sport\"] = pd.to_numeric(df['sport'])\n",
        "df[\"dport\"] = pd.to_numeric(df['dport'])"
      ]
    },
    {
      "cell_type": "code",
      "execution_count": null,
      "metadata": {
        "colab": {
          "base_uri": "https://localhost:8080/"
        },
        "id": "hT4JVrpnmC7d",
        "outputId": "6359a675-da59-4cad-aa13-ac914fc4f437"
      },
      "outputs": [
        {
          "output_type": "execute_result",
          "data": {
            "text/plain": [
              "dtype('int64')"
            ]
          },
          "metadata": {},
          "execution_count": 14
        }
      ],
      "source": [
        "df.sport.dtype"
      ]
    },
    {
      "cell_type": "code",
      "execution_count": null,
      "metadata": {
        "id": "2nx-f-lrtK44"
      },
      "outputs": [],
      "source": [
        "df.drop(['state_number'], axis=1, inplace=True)"
      ]
    },
    {
      "cell_type": "code",
      "execution_count": null,
      "metadata": {
        "colab": {
          "base_uri": "https://localhost:8080/"
        },
        "id": "KYAO9khpmIk3",
        "outputId": "224df053-c708-496a-a278-7f7530708ca5"
      },
      "outputs": [
        {
          "output_type": "execute_result",
          "data": {
            "text/plain": [
              "dtype('int64')"
            ]
          },
          "metadata": {},
          "execution_count": 16
        }
      ],
      "source": [
        "df.dport.dtype"
      ]
    },
    {
      "cell_type": "code",
      "execution_count": null,
      "metadata": {
        "id": "cGngxMubmkjt"
      },
      "outputs": [],
      "source": [
        "df.drop(['seq'], axis=1, inplace=True)"
      ]
    },
    {
      "cell_type": "code",
      "execution_count": null,
      "metadata": {
        "id": "Q6LDZWv1mscM"
      },
      "outputs": [],
      "source": [
        "df.to_csv(r'basic_cleaned.csv')"
      ]
    },
    {
      "cell_type": "code",
      "source": [
        "df_ml = df.copy()"
      ],
      "metadata": {
        "id": "H5aQUZUdy9Sw"
      },
      "execution_count": null,
      "outputs": []
    },
    {
      "cell_type": "code",
      "execution_count": null,
      "metadata": {
        "id": "o0aRg0D5nAOG"
      },
      "outputs": [],
      "source": [
        "df_ml.drop(['proto', 'proto_number', 'saddr', 'sport', 'daddr', 'dport','state','category', 'subcategory',], axis=1, inplace=True)"
      ]
    },
    {
      "cell_type": "code",
      "execution_count": null,
      "metadata": {
        "id": "6bEduX_2nB4-"
      },
      "outputs": [],
      "source": [
        "df_ml.to_csv(r'ml_dataset.csv')"
      ]
    },
    {
      "cell_type": "code",
      "execution_count": null,
      "metadata": {
        "colab": {
          "base_uri": "https://localhost:8080/",
          "height": 300
        },
        "id": "oGxrl_a8nHT5",
        "outputId": "9b7eca2d-cfbc-4c23-fcc4-066b634cb1ca"
      },
      "outputs": [
        {
          "output_type": "execute_result",
          "data": {
            "text/plain": [
              "   pkts  bytes       dur  average_dur  stddev_dur  total_dur   min_dur  \\\n",
              "0    10   1729  6.406424     0.679473    0.544126   1.358946  0.135347   \n",
              "1    10   1604  6.405851     0.679572    0.544197   1.359144  0.135375   \n",
              "2     8   1708  6.401038     1.110847    1.110847   2.221694  0.000000   \n",
              "3     8   1462  6.400703     1.113328    1.113328   2.226655  0.000000   \n",
              "4     8   1296  6.400472     1.113098    1.113098   2.226195  0.000000   \n",
              "\n",
              "    max_dur  spkts  dpkts  ...  TnP_Per_Dport  AR_P_Proto_P_SrcIP  \\\n",
              "0  1.223599      6      4  ...            700             1.26889   \n",
              "1  1.223769      6      4  ...            700             1.26889   \n",
              "2  2.221694      5      3  ...            700             1.26889   \n",
              "3  2.226655      5      3  ...            700             1.26889   \n",
              "4  2.226195      5      3  ...            700             1.26889   \n",
              "\n",
              "   AR_P_Proto_P_DstIP  N_IN_Conn_P_DstIP  N_IN_Conn_P_SrcIP  \\\n",
              "0             1.21662                 40                 38   \n",
              "1             1.21662                 40                 38   \n",
              "2             1.21662                 40                 38   \n",
              "3             1.21662                 40                 38   \n",
              "4             1.21662                 40                 38   \n",
              "\n",
              "   AR_P_Proto_P_Sport  AR_P_Proto_P_Dport  Pkts_P_State_P_Protocol_P_DestIP  \\\n",
              "0             1.56093             1.21662                               328   \n",
              "1             1.56107             1.21662                               328   \n",
              "2             1.24980             1.21662                               328   \n",
              "3             1.24986             1.21662                               328   \n",
              "4             1.24991             1.21662                               328   \n",
              "\n",
              "   Pkts_P_State_P_Protocol_P_SrcIP  attack  \n",
              "0                              308       1  \n",
              "1                              308       1  \n",
              "2                              308       1  \n",
              "3                              308       1  \n",
              "4                              308       1  \n",
              "\n",
              "[5 rows x 30 columns]"
            ],
            "text/html": [
              "\n",
              "  <div id=\"df-82f8e08f-0201-4d8d-8863-bcb26983da71\">\n",
              "    <div class=\"colab-df-container\">\n",
              "      <div>\n",
              "<style scoped>\n",
              "    .dataframe tbody tr th:only-of-type {\n",
              "        vertical-align: middle;\n",
              "    }\n",
              "\n",
              "    .dataframe tbody tr th {\n",
              "        vertical-align: top;\n",
              "    }\n",
              "\n",
              "    .dataframe thead th {\n",
              "        text-align: right;\n",
              "    }\n",
              "</style>\n",
              "<table border=\"1\" class=\"dataframe\">\n",
              "  <thead>\n",
              "    <tr style=\"text-align: right;\">\n",
              "      <th></th>\n",
              "      <th>pkts</th>\n",
              "      <th>bytes</th>\n",
              "      <th>dur</th>\n",
              "      <th>average_dur</th>\n",
              "      <th>stddev_dur</th>\n",
              "      <th>total_dur</th>\n",
              "      <th>min_dur</th>\n",
              "      <th>max_dur</th>\n",
              "      <th>spkts</th>\n",
              "      <th>dpkts</th>\n",
              "      <th>...</th>\n",
              "      <th>TnP_Per_Dport</th>\n",
              "      <th>AR_P_Proto_P_SrcIP</th>\n",
              "      <th>AR_P_Proto_P_DstIP</th>\n",
              "      <th>N_IN_Conn_P_DstIP</th>\n",
              "      <th>N_IN_Conn_P_SrcIP</th>\n",
              "      <th>AR_P_Proto_P_Sport</th>\n",
              "      <th>AR_P_Proto_P_Dport</th>\n",
              "      <th>Pkts_P_State_P_Protocol_P_DestIP</th>\n",
              "      <th>Pkts_P_State_P_Protocol_P_SrcIP</th>\n",
              "      <th>attack</th>\n",
              "    </tr>\n",
              "  </thead>\n",
              "  <tbody>\n",
              "    <tr>\n",
              "      <th>0</th>\n",
              "      <td>10</td>\n",
              "      <td>1729</td>\n",
              "      <td>6.406424</td>\n",
              "      <td>0.679473</td>\n",
              "      <td>0.544126</td>\n",
              "      <td>1.358946</td>\n",
              "      <td>0.135347</td>\n",
              "      <td>1.223599</td>\n",
              "      <td>6</td>\n",
              "      <td>4</td>\n",
              "      <td>...</td>\n",
              "      <td>700</td>\n",
              "      <td>1.26889</td>\n",
              "      <td>1.21662</td>\n",
              "      <td>40</td>\n",
              "      <td>38</td>\n",
              "      <td>1.56093</td>\n",
              "      <td>1.21662</td>\n",
              "      <td>328</td>\n",
              "      <td>308</td>\n",
              "      <td>1</td>\n",
              "    </tr>\n",
              "    <tr>\n",
              "      <th>1</th>\n",
              "      <td>10</td>\n",
              "      <td>1604</td>\n",
              "      <td>6.405851</td>\n",
              "      <td>0.679572</td>\n",
              "      <td>0.544197</td>\n",
              "      <td>1.359144</td>\n",
              "      <td>0.135375</td>\n",
              "      <td>1.223769</td>\n",
              "      <td>6</td>\n",
              "      <td>4</td>\n",
              "      <td>...</td>\n",
              "      <td>700</td>\n",
              "      <td>1.26889</td>\n",
              "      <td>1.21662</td>\n",
              "      <td>40</td>\n",
              "      <td>38</td>\n",
              "      <td>1.56107</td>\n",
              "      <td>1.21662</td>\n",
              "      <td>328</td>\n",
              "      <td>308</td>\n",
              "      <td>1</td>\n",
              "    </tr>\n",
              "    <tr>\n",
              "      <th>2</th>\n",
              "      <td>8</td>\n",
              "      <td>1708</td>\n",
              "      <td>6.401038</td>\n",
              "      <td>1.110847</td>\n",
              "      <td>1.110847</td>\n",
              "      <td>2.221694</td>\n",
              "      <td>0.000000</td>\n",
              "      <td>2.221694</td>\n",
              "      <td>5</td>\n",
              "      <td>3</td>\n",
              "      <td>...</td>\n",
              "      <td>700</td>\n",
              "      <td>1.26889</td>\n",
              "      <td>1.21662</td>\n",
              "      <td>40</td>\n",
              "      <td>38</td>\n",
              "      <td>1.24980</td>\n",
              "      <td>1.21662</td>\n",
              "      <td>328</td>\n",
              "      <td>308</td>\n",
              "      <td>1</td>\n",
              "    </tr>\n",
              "    <tr>\n",
              "      <th>3</th>\n",
              "      <td>8</td>\n",
              "      <td>1462</td>\n",
              "      <td>6.400703</td>\n",
              "      <td>1.113328</td>\n",
              "      <td>1.113328</td>\n",
              "      <td>2.226655</td>\n",
              "      <td>0.000000</td>\n",
              "      <td>2.226655</td>\n",
              "      <td>5</td>\n",
              "      <td>3</td>\n",
              "      <td>...</td>\n",
              "      <td>700</td>\n",
              "      <td>1.26889</td>\n",
              "      <td>1.21662</td>\n",
              "      <td>40</td>\n",
              "      <td>38</td>\n",
              "      <td>1.24986</td>\n",
              "      <td>1.21662</td>\n",
              "      <td>328</td>\n",
              "      <td>308</td>\n",
              "      <td>1</td>\n",
              "    </tr>\n",
              "    <tr>\n",
              "      <th>4</th>\n",
              "      <td>8</td>\n",
              "      <td>1296</td>\n",
              "      <td>6.400472</td>\n",
              "      <td>1.113098</td>\n",
              "      <td>1.113098</td>\n",
              "      <td>2.226195</td>\n",
              "      <td>0.000000</td>\n",
              "      <td>2.226195</td>\n",
              "      <td>5</td>\n",
              "      <td>3</td>\n",
              "      <td>...</td>\n",
              "      <td>700</td>\n",
              "      <td>1.26889</td>\n",
              "      <td>1.21662</td>\n",
              "      <td>40</td>\n",
              "      <td>38</td>\n",
              "      <td>1.24991</td>\n",
              "      <td>1.21662</td>\n",
              "      <td>328</td>\n",
              "      <td>308</td>\n",
              "      <td>1</td>\n",
              "    </tr>\n",
              "  </tbody>\n",
              "</table>\n",
              "<p>5 rows × 30 columns</p>\n",
              "</div>\n",
              "      <button class=\"colab-df-convert\" onclick=\"convertToInteractive('df-82f8e08f-0201-4d8d-8863-bcb26983da71')\"\n",
              "              title=\"Convert this dataframe to an interactive table.\"\n",
              "              style=\"display:none;\">\n",
              "        \n",
              "  <svg xmlns=\"http://www.w3.org/2000/svg\" height=\"24px\"viewBox=\"0 0 24 24\"\n",
              "       width=\"24px\">\n",
              "    <path d=\"M0 0h24v24H0V0z\" fill=\"none\"/>\n",
              "    <path d=\"M18.56 5.44l.94 2.06.94-2.06 2.06-.94-2.06-.94-.94-2.06-.94 2.06-2.06.94zm-11 1L8.5 8.5l.94-2.06 2.06-.94-2.06-.94L8.5 2.5l-.94 2.06-2.06.94zm10 10l.94 2.06.94-2.06 2.06-.94-2.06-.94-.94-2.06-.94 2.06-2.06.94z\"/><path d=\"M17.41 7.96l-1.37-1.37c-.4-.4-.92-.59-1.43-.59-.52 0-1.04.2-1.43.59L10.3 9.45l-7.72 7.72c-.78.78-.78 2.05 0 2.83L4 21.41c.39.39.9.59 1.41.59.51 0 1.02-.2 1.41-.59l7.78-7.78 2.81-2.81c.8-.78.8-2.07 0-2.86zM5.41 20L4 18.59l7.72-7.72 1.47 1.35L5.41 20z\"/>\n",
              "  </svg>\n",
              "      </button>\n",
              "      \n",
              "  <style>\n",
              "    .colab-df-container {\n",
              "      display:flex;\n",
              "      flex-wrap:wrap;\n",
              "      gap: 12px;\n",
              "    }\n",
              "\n",
              "    .colab-df-convert {\n",
              "      background-color: #E8F0FE;\n",
              "      border: none;\n",
              "      border-radius: 50%;\n",
              "      cursor: pointer;\n",
              "      display: none;\n",
              "      fill: #1967D2;\n",
              "      height: 32px;\n",
              "      padding: 0 0 0 0;\n",
              "      width: 32px;\n",
              "    }\n",
              "\n",
              "    .colab-df-convert:hover {\n",
              "      background-color: #E2EBFA;\n",
              "      box-shadow: 0px 1px 2px rgba(60, 64, 67, 0.3), 0px 1px 3px 1px rgba(60, 64, 67, 0.15);\n",
              "      fill: #174EA6;\n",
              "    }\n",
              "\n",
              "    [theme=dark] .colab-df-convert {\n",
              "      background-color: #3B4455;\n",
              "      fill: #D2E3FC;\n",
              "    }\n",
              "\n",
              "    [theme=dark] .colab-df-convert:hover {\n",
              "      background-color: #434B5C;\n",
              "      box-shadow: 0px 1px 3px 1px rgba(0, 0, 0, 0.15);\n",
              "      filter: drop-shadow(0px 1px 2px rgba(0, 0, 0, 0.3));\n",
              "      fill: #FFFFFF;\n",
              "    }\n",
              "  </style>\n",
              "\n",
              "      <script>\n",
              "        const buttonEl =\n",
              "          document.querySelector('#df-82f8e08f-0201-4d8d-8863-bcb26983da71 button.colab-df-convert');\n",
              "        buttonEl.style.display =\n",
              "          google.colab.kernel.accessAllowed ? 'block' : 'none';\n",
              "\n",
              "        async function convertToInteractive(key) {\n",
              "          const element = document.querySelector('#df-82f8e08f-0201-4d8d-8863-bcb26983da71');\n",
              "          const dataTable =\n",
              "            await google.colab.kernel.invokeFunction('convertToInteractive',\n",
              "                                                     [key], {});\n",
              "          if (!dataTable) return;\n",
              "\n",
              "          const docLinkHtml = 'Like what you see? Visit the ' +\n",
              "            '<a target=\"_blank\" href=https://colab.research.google.com/notebooks/data_table.ipynb>data table notebook</a>'\n",
              "            + ' to learn more about interactive tables.';\n",
              "          element.innerHTML = '';\n",
              "          dataTable['output_type'] = 'display_data';\n",
              "          await google.colab.output.renderOutput(dataTable, element);\n",
              "          const docLink = document.createElement('div');\n",
              "          docLink.innerHTML = docLinkHtml;\n",
              "          element.appendChild(docLink);\n",
              "        }\n",
              "      </script>\n",
              "    </div>\n",
              "  </div>\n",
              "  "
            ]
          },
          "metadata": {},
          "execution_count": 22
        }
      ],
      "source": [
        "df_ml.head()"
      ]
    },
    {
      "cell_type": "code",
      "execution_count": null,
      "metadata": {
        "colab": {
          "base_uri": "https://localhost:8080/",
          "height": 394
        },
        "id": "hmR9qUxsnaip",
        "outputId": "4fefafb6-0467-49f0-e288-a91b4a964584"
      },
      "outputs": [
        {
          "output_type": "execute_result",
          "data": {
            "text/plain": [
              "               pkts         bytes           dur   average_dur    stddev_dur  \\\n",
              "count  1.927085e+06  1.927085e+06  1.927085e+06  1.927085e+06  1.927085e+06   \n",
              "mean   7.913864e+00  1.126113e+03  1.484887e+01  2.549113e+00  9.451324e-01   \n",
              "std    1.591981e+02  1.548957e+05  1.238461e+01  1.404563e+00  7.518481e-01   \n",
              "min    1.000000e+00  6.000000e+01  0.000000e+00  0.000000e+00  0.000000e+00   \n",
              "25%    5.000000e+00  4.200000e+02  1.212148e+01  2.015787e+00  1.228950e-01   \n",
              "50%    7.000000e+00  6.160000e+02  1.368343e+01  2.759683e+00  9.375680e-01   \n",
              "75%    1.000000e+01  7.800000e+02  1.454814e+01  3.659847e+00  1.690047e+00   \n",
              "max    7.005700e+04  7.183334e+07  1.940859e+03  4.981882e+00  2.496763e+00   \n",
              "\n",
              "          total_dur       min_dur       max_dur         spkts         dpkts  \\\n",
              "count  1.927085e+06  1.927085e+06  1.927085e+06  1.927085e+06  1.927085e+06   \n",
              "mean   7.256802e+00  1.301614e+00  3.348263e+00  7.448783e+00  4.650807e-01   \n",
              "std    8.140807e+00  1.491021e+00  1.647105e+00  1.061683e+02  6.849927e+01   \n",
              "min    0.000000e+00  0.000000e+00  0.000000e+00  1.000000e+00  0.000000e+00   \n",
              "25%    4.532602e+00  0.000000e+00  3.260394e+00  4.000000e+00  0.000000e+00   \n",
              "50%    8.116730e+00  1.695630e-01  4.057629e+00  6.000000e+00  0.000000e+00   \n",
              "75%    1.052096e+01  2.763412e+00  4.172464e+00  9.000000e+00  0.000000e+00   \n",
              "max    1.913194e+03  4.980471e+00  4.999999e+00  3.502900e+04  3.502900e+04   \n",
              "\n",
              "       ...  TnP_Per_Dport  AR_P_Proto_P_SrcIP  AR_P_Proto_P_DstIP  \\\n",
              "count  ...   1.927085e+06        1.927085e+06        1.927085e+06   \n",
              "mean   ...   7.340726e+02        1.337964e+00        1.806929e+00   \n",
              "std    ...   8.333706e+02        8.717321e+01        2.242328e+02   \n",
              "min    ...   1.000000e+00        0.000000e+00        0.000000e+00   \n",
              "25%    ...   5.000000e+02        3.594890e-01        3.703380e-01   \n",
              "50%    ...   6.820000e+02        5.410290e-01        5.497720e-01   \n",
              "75%    ...   9.520000e+02        7.588950e-01        7.534480e-01   \n",
              "max    ...   2.444250e+05        8.695650e+04        1.818180e+05   \n",
              "\n",
              "       N_IN_Conn_P_DstIP  N_IN_Conn_P_SrcIP  AR_P_Proto_P_Sport  \\\n",
              "count       1.927085e+06       1.927085e+06        1.927085e+06   \n",
              "mean        9.988558e+01       8.194465e+01        8.421063e-01   \n",
              "std         2.613227e+00       2.422740e+01        6.318307e+01   \n",
              "min         1.000000e+00       1.000000e+00        0.000000e+00   \n",
              "25%         1.000000e+02       6.800000e+01        3.502680e-01   \n",
              "50%         1.000000e+02       9.700000e+01        5.437660e-01   \n",
              "75%         1.000000e+02       1.000000e+02        7.285200e-01   \n",
              "max         1.000000e+02       1.000000e+02        8.695650e+04   \n",
              "\n",
              "       AR_P_Proto_P_Dport  Pkts_P_State_P_Protocol_P_DestIP  \\\n",
              "count        1.927085e+06                      1.927085e+06   \n",
              "mean         1.418527e+00                      6.771695e+02   \n",
              "std          6.320720e+01                      5.036672e+02   \n",
              "min          0.000000e+00                      1.000000e+00   \n",
              "25%          3.703120e-01                      3.650000e+02   \n",
              "50%          5.496870e-01                      6.270000e+02   \n",
              "75%          7.533360e-01                      9.480000e+02   \n",
              "max          8.695650e+04                      1.125440e+05   \n",
              "\n",
              "       Pkts_P_State_P_Protocol_P_SrcIP        attack  \n",
              "count                     1.927085e+06  1.927085e+06  \n",
              "mean                      5.742009e+02  9.997525e-01  \n",
              "std                       4.717016e+02  1.573096e-02  \n",
              "min                       1.000000e+00  0.000000e+00  \n",
              "25%                       2.690000e+02  1.000000e+00  \n",
              "50%                       5.000000e+02  1.000000e+00  \n",
              "75%                       7.840000e+02  1.000000e+00  \n",
              "max                       1.179390e+05  1.000000e+00  \n",
              "\n",
              "[8 rows x 30 columns]"
            ],
            "text/html": [
              "\n",
              "  <div id=\"df-e6f866ea-8324-43c4-9151-656005f39674\">\n",
              "    <div class=\"colab-df-container\">\n",
              "      <div>\n",
              "<style scoped>\n",
              "    .dataframe tbody tr th:only-of-type {\n",
              "        vertical-align: middle;\n",
              "    }\n",
              "\n",
              "    .dataframe tbody tr th {\n",
              "        vertical-align: top;\n",
              "    }\n",
              "\n",
              "    .dataframe thead th {\n",
              "        text-align: right;\n",
              "    }\n",
              "</style>\n",
              "<table border=\"1\" class=\"dataframe\">\n",
              "  <thead>\n",
              "    <tr style=\"text-align: right;\">\n",
              "      <th></th>\n",
              "      <th>pkts</th>\n",
              "      <th>bytes</th>\n",
              "      <th>dur</th>\n",
              "      <th>average_dur</th>\n",
              "      <th>stddev_dur</th>\n",
              "      <th>total_dur</th>\n",
              "      <th>min_dur</th>\n",
              "      <th>max_dur</th>\n",
              "      <th>spkts</th>\n",
              "      <th>dpkts</th>\n",
              "      <th>...</th>\n",
              "      <th>TnP_Per_Dport</th>\n",
              "      <th>AR_P_Proto_P_SrcIP</th>\n",
              "      <th>AR_P_Proto_P_DstIP</th>\n",
              "      <th>N_IN_Conn_P_DstIP</th>\n",
              "      <th>N_IN_Conn_P_SrcIP</th>\n",
              "      <th>AR_P_Proto_P_Sport</th>\n",
              "      <th>AR_P_Proto_P_Dport</th>\n",
              "      <th>Pkts_P_State_P_Protocol_P_DestIP</th>\n",
              "      <th>Pkts_P_State_P_Protocol_P_SrcIP</th>\n",
              "      <th>attack</th>\n",
              "    </tr>\n",
              "  </thead>\n",
              "  <tbody>\n",
              "    <tr>\n",
              "      <th>count</th>\n",
              "      <td>1.927085e+06</td>\n",
              "      <td>1.927085e+06</td>\n",
              "      <td>1.927085e+06</td>\n",
              "      <td>1.927085e+06</td>\n",
              "      <td>1.927085e+06</td>\n",
              "      <td>1.927085e+06</td>\n",
              "      <td>1.927085e+06</td>\n",
              "      <td>1.927085e+06</td>\n",
              "      <td>1.927085e+06</td>\n",
              "      <td>1.927085e+06</td>\n",
              "      <td>...</td>\n",
              "      <td>1.927085e+06</td>\n",
              "      <td>1.927085e+06</td>\n",
              "      <td>1.927085e+06</td>\n",
              "      <td>1.927085e+06</td>\n",
              "      <td>1.927085e+06</td>\n",
              "      <td>1.927085e+06</td>\n",
              "      <td>1.927085e+06</td>\n",
              "      <td>1.927085e+06</td>\n",
              "      <td>1.927085e+06</td>\n",
              "      <td>1.927085e+06</td>\n",
              "    </tr>\n",
              "    <tr>\n",
              "      <th>mean</th>\n",
              "      <td>7.913864e+00</td>\n",
              "      <td>1.126113e+03</td>\n",
              "      <td>1.484887e+01</td>\n",
              "      <td>2.549113e+00</td>\n",
              "      <td>9.451324e-01</td>\n",
              "      <td>7.256802e+00</td>\n",
              "      <td>1.301614e+00</td>\n",
              "      <td>3.348263e+00</td>\n",
              "      <td>7.448783e+00</td>\n",
              "      <td>4.650807e-01</td>\n",
              "      <td>...</td>\n",
              "      <td>7.340726e+02</td>\n",
              "      <td>1.337964e+00</td>\n",
              "      <td>1.806929e+00</td>\n",
              "      <td>9.988558e+01</td>\n",
              "      <td>8.194465e+01</td>\n",
              "      <td>8.421063e-01</td>\n",
              "      <td>1.418527e+00</td>\n",
              "      <td>6.771695e+02</td>\n",
              "      <td>5.742009e+02</td>\n",
              "      <td>9.997525e-01</td>\n",
              "    </tr>\n",
              "    <tr>\n",
              "      <th>std</th>\n",
              "      <td>1.591981e+02</td>\n",
              "      <td>1.548957e+05</td>\n",
              "      <td>1.238461e+01</td>\n",
              "      <td>1.404563e+00</td>\n",
              "      <td>7.518481e-01</td>\n",
              "      <td>8.140807e+00</td>\n",
              "      <td>1.491021e+00</td>\n",
              "      <td>1.647105e+00</td>\n",
              "      <td>1.061683e+02</td>\n",
              "      <td>6.849927e+01</td>\n",
              "      <td>...</td>\n",
              "      <td>8.333706e+02</td>\n",
              "      <td>8.717321e+01</td>\n",
              "      <td>2.242328e+02</td>\n",
              "      <td>2.613227e+00</td>\n",
              "      <td>2.422740e+01</td>\n",
              "      <td>6.318307e+01</td>\n",
              "      <td>6.320720e+01</td>\n",
              "      <td>5.036672e+02</td>\n",
              "      <td>4.717016e+02</td>\n",
              "      <td>1.573096e-02</td>\n",
              "    </tr>\n",
              "    <tr>\n",
              "      <th>min</th>\n",
              "      <td>1.000000e+00</td>\n",
              "      <td>6.000000e+01</td>\n",
              "      <td>0.000000e+00</td>\n",
              "      <td>0.000000e+00</td>\n",
              "      <td>0.000000e+00</td>\n",
              "      <td>0.000000e+00</td>\n",
              "      <td>0.000000e+00</td>\n",
              "      <td>0.000000e+00</td>\n",
              "      <td>1.000000e+00</td>\n",
              "      <td>0.000000e+00</td>\n",
              "      <td>...</td>\n",
              "      <td>1.000000e+00</td>\n",
              "      <td>0.000000e+00</td>\n",
              "      <td>0.000000e+00</td>\n",
              "      <td>1.000000e+00</td>\n",
              "      <td>1.000000e+00</td>\n",
              "      <td>0.000000e+00</td>\n",
              "      <td>0.000000e+00</td>\n",
              "      <td>1.000000e+00</td>\n",
              "      <td>1.000000e+00</td>\n",
              "      <td>0.000000e+00</td>\n",
              "    </tr>\n",
              "    <tr>\n",
              "      <th>25%</th>\n",
              "      <td>5.000000e+00</td>\n",
              "      <td>4.200000e+02</td>\n",
              "      <td>1.212148e+01</td>\n",
              "      <td>2.015787e+00</td>\n",
              "      <td>1.228950e-01</td>\n",
              "      <td>4.532602e+00</td>\n",
              "      <td>0.000000e+00</td>\n",
              "      <td>3.260394e+00</td>\n",
              "      <td>4.000000e+00</td>\n",
              "      <td>0.000000e+00</td>\n",
              "      <td>...</td>\n",
              "      <td>5.000000e+02</td>\n",
              "      <td>3.594890e-01</td>\n",
              "      <td>3.703380e-01</td>\n",
              "      <td>1.000000e+02</td>\n",
              "      <td>6.800000e+01</td>\n",
              "      <td>3.502680e-01</td>\n",
              "      <td>3.703120e-01</td>\n",
              "      <td>3.650000e+02</td>\n",
              "      <td>2.690000e+02</td>\n",
              "      <td>1.000000e+00</td>\n",
              "    </tr>\n",
              "    <tr>\n",
              "      <th>50%</th>\n",
              "      <td>7.000000e+00</td>\n",
              "      <td>6.160000e+02</td>\n",
              "      <td>1.368343e+01</td>\n",
              "      <td>2.759683e+00</td>\n",
              "      <td>9.375680e-01</td>\n",
              "      <td>8.116730e+00</td>\n",
              "      <td>1.695630e-01</td>\n",
              "      <td>4.057629e+00</td>\n",
              "      <td>6.000000e+00</td>\n",
              "      <td>0.000000e+00</td>\n",
              "      <td>...</td>\n",
              "      <td>6.820000e+02</td>\n",
              "      <td>5.410290e-01</td>\n",
              "      <td>5.497720e-01</td>\n",
              "      <td>1.000000e+02</td>\n",
              "      <td>9.700000e+01</td>\n",
              "      <td>5.437660e-01</td>\n",
              "      <td>5.496870e-01</td>\n",
              "      <td>6.270000e+02</td>\n",
              "      <td>5.000000e+02</td>\n",
              "      <td>1.000000e+00</td>\n",
              "    </tr>\n",
              "    <tr>\n",
              "      <th>75%</th>\n",
              "      <td>1.000000e+01</td>\n",
              "      <td>7.800000e+02</td>\n",
              "      <td>1.454814e+01</td>\n",
              "      <td>3.659847e+00</td>\n",
              "      <td>1.690047e+00</td>\n",
              "      <td>1.052096e+01</td>\n",
              "      <td>2.763412e+00</td>\n",
              "      <td>4.172464e+00</td>\n",
              "      <td>9.000000e+00</td>\n",
              "      <td>0.000000e+00</td>\n",
              "      <td>...</td>\n",
              "      <td>9.520000e+02</td>\n",
              "      <td>7.588950e-01</td>\n",
              "      <td>7.534480e-01</td>\n",
              "      <td>1.000000e+02</td>\n",
              "      <td>1.000000e+02</td>\n",
              "      <td>7.285200e-01</td>\n",
              "      <td>7.533360e-01</td>\n",
              "      <td>9.480000e+02</td>\n",
              "      <td>7.840000e+02</td>\n",
              "      <td>1.000000e+00</td>\n",
              "    </tr>\n",
              "    <tr>\n",
              "      <th>max</th>\n",
              "      <td>7.005700e+04</td>\n",
              "      <td>7.183334e+07</td>\n",
              "      <td>1.940859e+03</td>\n",
              "      <td>4.981882e+00</td>\n",
              "      <td>2.496763e+00</td>\n",
              "      <td>1.913194e+03</td>\n",
              "      <td>4.980471e+00</td>\n",
              "      <td>4.999999e+00</td>\n",
              "      <td>3.502900e+04</td>\n",
              "      <td>3.502900e+04</td>\n",
              "      <td>...</td>\n",
              "      <td>2.444250e+05</td>\n",
              "      <td>8.695650e+04</td>\n",
              "      <td>1.818180e+05</td>\n",
              "      <td>1.000000e+02</td>\n",
              "      <td>1.000000e+02</td>\n",
              "      <td>8.695650e+04</td>\n",
              "      <td>8.695650e+04</td>\n",
              "      <td>1.125440e+05</td>\n",
              "      <td>1.179390e+05</td>\n",
              "      <td>1.000000e+00</td>\n",
              "    </tr>\n",
              "  </tbody>\n",
              "</table>\n",
              "<p>8 rows × 30 columns</p>\n",
              "</div>\n",
              "      <button class=\"colab-df-convert\" onclick=\"convertToInteractive('df-e6f866ea-8324-43c4-9151-656005f39674')\"\n",
              "              title=\"Convert this dataframe to an interactive table.\"\n",
              "              style=\"display:none;\">\n",
              "        \n",
              "  <svg xmlns=\"http://www.w3.org/2000/svg\" height=\"24px\"viewBox=\"0 0 24 24\"\n",
              "       width=\"24px\">\n",
              "    <path d=\"M0 0h24v24H0V0z\" fill=\"none\"/>\n",
              "    <path d=\"M18.56 5.44l.94 2.06.94-2.06 2.06-.94-2.06-.94-.94-2.06-.94 2.06-2.06.94zm-11 1L8.5 8.5l.94-2.06 2.06-.94-2.06-.94L8.5 2.5l-.94 2.06-2.06.94zm10 10l.94 2.06.94-2.06 2.06-.94-2.06-.94-.94-2.06-.94 2.06-2.06.94z\"/><path d=\"M17.41 7.96l-1.37-1.37c-.4-.4-.92-.59-1.43-.59-.52 0-1.04.2-1.43.59L10.3 9.45l-7.72 7.72c-.78.78-.78 2.05 0 2.83L4 21.41c.39.39.9.59 1.41.59.51 0 1.02-.2 1.41-.59l7.78-7.78 2.81-2.81c.8-.78.8-2.07 0-2.86zM5.41 20L4 18.59l7.72-7.72 1.47 1.35L5.41 20z\"/>\n",
              "  </svg>\n",
              "      </button>\n",
              "      \n",
              "  <style>\n",
              "    .colab-df-container {\n",
              "      display:flex;\n",
              "      flex-wrap:wrap;\n",
              "      gap: 12px;\n",
              "    }\n",
              "\n",
              "    .colab-df-convert {\n",
              "      background-color: #E8F0FE;\n",
              "      border: none;\n",
              "      border-radius: 50%;\n",
              "      cursor: pointer;\n",
              "      display: none;\n",
              "      fill: #1967D2;\n",
              "      height: 32px;\n",
              "      padding: 0 0 0 0;\n",
              "      width: 32px;\n",
              "    }\n",
              "\n",
              "    .colab-df-convert:hover {\n",
              "      background-color: #E2EBFA;\n",
              "      box-shadow: 0px 1px 2px rgba(60, 64, 67, 0.3), 0px 1px 3px 1px rgba(60, 64, 67, 0.15);\n",
              "      fill: #174EA6;\n",
              "    }\n",
              "\n",
              "    [theme=dark] .colab-df-convert {\n",
              "      background-color: #3B4455;\n",
              "      fill: #D2E3FC;\n",
              "    }\n",
              "\n",
              "    [theme=dark] .colab-df-convert:hover {\n",
              "      background-color: #434B5C;\n",
              "      box-shadow: 0px 1px 3px 1px rgba(0, 0, 0, 0.15);\n",
              "      filter: drop-shadow(0px 1px 2px rgba(0, 0, 0, 0.3));\n",
              "      fill: #FFFFFF;\n",
              "    }\n",
              "  </style>\n",
              "\n",
              "      <script>\n",
              "        const buttonEl =\n",
              "          document.querySelector('#df-e6f866ea-8324-43c4-9151-656005f39674 button.colab-df-convert');\n",
              "        buttonEl.style.display =\n",
              "          google.colab.kernel.accessAllowed ? 'block' : 'none';\n",
              "\n",
              "        async function convertToInteractive(key) {\n",
              "          const element = document.querySelector('#df-e6f866ea-8324-43c4-9151-656005f39674');\n",
              "          const dataTable =\n",
              "            await google.colab.kernel.invokeFunction('convertToInteractive',\n",
              "                                                     [key], {});\n",
              "          if (!dataTable) return;\n",
              "\n",
              "          const docLinkHtml = 'Like what you see? Visit the ' +\n",
              "            '<a target=\"_blank\" href=https://colab.research.google.com/notebooks/data_table.ipynb>data table notebook</a>'\n",
              "            + ' to learn more about interactive tables.';\n",
              "          element.innerHTML = '';\n",
              "          dataTable['output_type'] = 'display_data';\n",
              "          await google.colab.output.renderOutput(dataTable, element);\n",
              "          const docLink = document.createElement('div');\n",
              "          docLink.innerHTML = docLinkHtml;\n",
              "          element.appendChild(docLink);\n",
              "        }\n",
              "      </script>\n",
              "    </div>\n",
              "  </div>\n",
              "  "
            ]
          },
          "metadata": {},
          "execution_count": 23
        }
      ],
      "source": [
        "df_ml.describe()"
      ]
    },
    {
      "cell_type": "code",
      "execution_count": null,
      "metadata": {
        "colab": {
          "base_uri": "https://localhost:8080/"
        },
        "id": "OuDcMdqIntIt",
        "outputId": "012084de-6a4f-4126-bd87-7701e4be9c7e"
      },
      "outputs": [
        {
          "output_type": "stream",
          "name": "stdout",
          "text": [
            "Looking in indexes: https://pypi.org/simple, https://us-python.pkg.dev/colab-wheels/public/simple/\n",
            "Collecting smote_variants\n",
            "  Downloading smote_variants-0.4.0-py3-none-any.whl (134 kB)\n",
            "\u001b[K     |████████████████████████████████| 134 kB 5.6 MB/s \n",
            "\u001b[?25hRequirement already satisfied: joblib in /usr/local/lib/python3.7/dist-packages (from smote_variants) (1.1.0)\n",
            "Requirement already satisfied: numpy>=1.13.0 in /usr/local/lib/python3.7/dist-packages (from smote_variants) (1.21.6)\n",
            "Collecting minisom\n",
            "  Downloading MiniSom-2.3.0.tar.gz (8.8 kB)\n",
            "Requirement already satisfied: scipy in /usr/local/lib/python3.7/dist-packages (from smote_variants) (1.4.1)\n",
            "Requirement already satisfied: keras in /usr/local/lib/python3.7/dist-packages (from smote_variants) (2.8.0)\n",
            "Collecting statistics\n",
            "  Downloading statistics-1.0.3.5.tar.gz (8.3 kB)\n",
            "Requirement already satisfied: pandas in /usr/local/lib/python3.7/dist-packages (from smote_variants) (1.3.5)\n",
            "Requirement already satisfied: tensorflow in /usr/local/lib/python3.7/dist-packages (from smote_variants) (2.8.2+zzzcolab20220527125636)\n",
            "Requirement already satisfied: mkl in /usr/local/lib/python3.7/dist-packages (from smote_variants) (2019.0)\n",
            "Requirement already satisfied: scikit-learn in /usr/local/lib/python3.7/dist-packages (from smote_variants) (1.0.2)\n",
            "Requirement already satisfied: intel-openmp in /usr/local/lib/python3.7/dist-packages (from mkl->smote_variants) (2022.1.0)\n",
            "Requirement already satisfied: pytz>=2017.3 in /usr/local/lib/python3.7/dist-packages (from pandas->smote_variants) (2022.1)\n",
            "Requirement already satisfied: python-dateutil>=2.7.3 in /usr/local/lib/python3.7/dist-packages (from pandas->smote_variants) (2.8.2)\n",
            "Requirement already satisfied: six>=1.5 in /usr/local/lib/python3.7/dist-packages (from python-dateutil>=2.7.3->pandas->smote_variants) (1.15.0)\n",
            "Requirement already satisfied: threadpoolctl>=2.0.0 in /usr/local/lib/python3.7/dist-packages (from scikit-learn->smote_variants) (3.1.0)\n",
            "Requirement already satisfied: docutils>=0.3 in /usr/local/lib/python3.7/dist-packages (from statistics->smote_variants) (0.17.1)\n",
            "Requirement already satisfied: google-pasta>=0.1.1 in /usr/local/lib/python3.7/dist-packages (from tensorflow->smote_variants) (0.2.0)\n",
            "Requirement already satisfied: termcolor>=1.1.0 in /usr/local/lib/python3.7/dist-packages (from tensorflow->smote_variants) (1.1.0)\n",
            "Requirement already satisfied: typing-extensions>=3.6.6 in /usr/local/lib/python3.7/dist-packages (from tensorflow->smote_variants) (4.1.1)\n",
            "Requirement already satisfied: grpcio<2.0,>=1.24.3 in /usr/local/lib/python3.7/dist-packages (from tensorflow->smote_variants) (1.46.3)\n",
            "Requirement already satisfied: keras-preprocessing>=1.1.1 in /usr/local/lib/python3.7/dist-packages (from tensorflow->smote_variants) (1.1.2)\n",
            "Requirement already satisfied: h5py>=2.9.0 in /usr/local/lib/python3.7/dist-packages (from tensorflow->smote_variants) (3.1.0)\n",
            "Requirement already satisfied: opt-einsum>=2.3.2 in /usr/local/lib/python3.7/dist-packages (from tensorflow->smote_variants) (3.3.0)\n",
            "Requirement already satisfied: setuptools in /usr/local/lib/python3.7/dist-packages (from tensorflow->smote_variants) (57.4.0)\n",
            "Requirement already satisfied: astunparse>=1.6.0 in /usr/local/lib/python3.7/dist-packages (from tensorflow->smote_variants) (1.6.3)\n",
            "Requirement already satisfied: absl-py>=0.4.0 in /usr/local/lib/python3.7/dist-packages (from tensorflow->smote_variants) (1.1.0)\n",
            "Requirement already satisfied: libclang>=9.0.1 in /usr/local/lib/python3.7/dist-packages (from tensorflow->smote_variants) (14.0.1)\n",
            "Requirement already satisfied: gast>=0.2.1 in /usr/local/lib/python3.7/dist-packages (from tensorflow->smote_variants) (0.5.3)\n",
            "Requirement already satisfied: tensorflow-estimator<2.9,>=2.8 in /usr/local/lib/python3.7/dist-packages (from tensorflow->smote_variants) (2.8.0)\n",
            "Requirement already satisfied: tensorflow-io-gcs-filesystem>=0.23.1 in /usr/local/lib/python3.7/dist-packages (from tensorflow->smote_variants) (0.26.0)\n",
            "Requirement already satisfied: protobuf<3.20,>=3.9.2 in /usr/local/lib/python3.7/dist-packages (from tensorflow->smote_variants) (3.17.3)\n",
            "Requirement already satisfied: flatbuffers>=1.12 in /usr/local/lib/python3.7/dist-packages (from tensorflow->smote_variants) (2.0)\n",
            "Requirement already satisfied: tensorboard<2.9,>=2.8 in /usr/local/lib/python3.7/dist-packages (from tensorflow->smote_variants) (2.8.0)\n",
            "Requirement already satisfied: wrapt>=1.11.0 in /usr/local/lib/python3.7/dist-packages (from tensorflow->smote_variants) (1.14.1)\n",
            "Requirement already satisfied: wheel<1.0,>=0.23.0 in /usr/local/lib/python3.7/dist-packages (from astunparse>=1.6.0->tensorflow->smote_variants) (0.37.1)\n",
            "Requirement already satisfied: cached-property in /usr/local/lib/python3.7/dist-packages (from h5py>=2.9.0->tensorflow->smote_variants) (1.5.2)\n",
            "Requirement already satisfied: requests<3,>=2.21.0 in /usr/local/lib/python3.7/dist-packages (from tensorboard<2.9,>=2.8->tensorflow->smote_variants) (2.23.0)\n",
            "Requirement already satisfied: tensorboard-plugin-wit>=1.6.0 in /usr/local/lib/python3.7/dist-packages (from tensorboard<2.9,>=2.8->tensorflow->smote_variants) (1.8.1)\n",
            "Requirement already satisfied: werkzeug>=0.11.15 in /usr/local/lib/python3.7/dist-packages (from tensorboard<2.9,>=2.8->tensorflow->smote_variants) (1.0.1)\n",
            "Requirement already satisfied: google-auth<3,>=1.6.3 in /usr/local/lib/python3.7/dist-packages (from tensorboard<2.9,>=2.8->tensorflow->smote_variants) (1.35.0)\n",
            "Requirement already satisfied: markdown>=2.6.8 in /usr/local/lib/python3.7/dist-packages (from tensorboard<2.9,>=2.8->tensorflow->smote_variants) (3.3.7)\n",
            "Requirement already satisfied: tensorboard-data-server<0.7.0,>=0.6.0 in /usr/local/lib/python3.7/dist-packages (from tensorboard<2.9,>=2.8->tensorflow->smote_variants) (0.6.1)\n",
            "Requirement already satisfied: google-auth-oauthlib<0.5,>=0.4.1 in /usr/local/lib/python3.7/dist-packages (from tensorboard<2.9,>=2.8->tensorflow->smote_variants) (0.4.6)\n",
            "Requirement already satisfied: pyasn1-modules>=0.2.1 in /usr/local/lib/python3.7/dist-packages (from google-auth<3,>=1.6.3->tensorboard<2.9,>=2.8->tensorflow->smote_variants) (0.2.8)\n",
            "Requirement already satisfied: cachetools<5.0,>=2.0.0 in /usr/local/lib/python3.7/dist-packages (from google-auth<3,>=1.6.3->tensorboard<2.9,>=2.8->tensorflow->smote_variants) (4.2.4)\n",
            "Requirement already satisfied: rsa<5,>=3.1.4 in /usr/local/lib/python3.7/dist-packages (from google-auth<3,>=1.6.3->tensorboard<2.9,>=2.8->tensorflow->smote_variants) (4.8)\n",
            "Requirement already satisfied: requests-oauthlib>=0.7.0 in /usr/local/lib/python3.7/dist-packages (from google-auth-oauthlib<0.5,>=0.4.1->tensorboard<2.9,>=2.8->tensorflow->smote_variants) (1.3.1)\n",
            "Requirement already satisfied: importlib-metadata>=4.4 in /usr/local/lib/python3.7/dist-packages (from markdown>=2.6.8->tensorboard<2.9,>=2.8->tensorflow->smote_variants) (4.11.4)\n",
            "Requirement already satisfied: zipp>=0.5 in /usr/local/lib/python3.7/dist-packages (from importlib-metadata>=4.4->markdown>=2.6.8->tensorboard<2.9,>=2.8->tensorflow->smote_variants) (3.8.0)\n",
            "Requirement already satisfied: pyasn1<0.5.0,>=0.4.6 in /usr/local/lib/python3.7/dist-packages (from pyasn1-modules>=0.2.1->google-auth<3,>=1.6.3->tensorboard<2.9,>=2.8->tensorflow->smote_variants) (0.4.8)\n",
            "Requirement already satisfied: idna<3,>=2.5 in /usr/local/lib/python3.7/dist-packages (from requests<3,>=2.21.0->tensorboard<2.9,>=2.8->tensorflow->smote_variants) (2.10)\n",
            "Requirement already satisfied: certifi>=2017.4.17 in /usr/local/lib/python3.7/dist-packages (from requests<3,>=2.21.0->tensorboard<2.9,>=2.8->tensorflow->smote_variants) (2022.6.15)\n",
            "Requirement already satisfied: chardet<4,>=3.0.2 in /usr/local/lib/python3.7/dist-packages (from requests<3,>=2.21.0->tensorboard<2.9,>=2.8->tensorflow->smote_variants) (3.0.4)\n",
            "Requirement already satisfied: urllib3!=1.25.0,!=1.25.1,<1.26,>=1.21.1 in /usr/local/lib/python3.7/dist-packages (from requests<3,>=2.21.0->tensorboard<2.9,>=2.8->tensorflow->smote_variants) (1.24.3)\n",
            "Requirement already satisfied: oauthlib>=3.0.0 in /usr/local/lib/python3.7/dist-packages (from requests-oauthlib>=0.7.0->google-auth-oauthlib<0.5,>=0.4.1->tensorboard<2.9,>=2.8->tensorflow->smote_variants) (3.2.0)\n",
            "Building wheels for collected packages: minisom, statistics\n",
            "  Building wheel for minisom (setup.py) ... \u001b[?25l\u001b[?25hdone\n",
            "  Created wheel for minisom: filename=MiniSom-2.3.0-py3-none-any.whl size=9018 sha256=e15f4f85d12f0539f09d5f5a47f97ba84706ac6dd2026c7bf77751460f2dd6c3\n",
            "  Stored in directory: /root/.cache/pip/wheels/d4/ca/4a/488772b0399fec45ff53132ed14c948dec4b30deee3a532f80\n",
            "  Building wheel for statistics (setup.py) ... \u001b[?25l\u001b[?25hdone\n",
            "  Created wheel for statistics: filename=statistics-1.0.3.5-py3-none-any.whl size=7454 sha256=d5d1a9b17e9bef4f003e074d2d151ec3ca05d5fe71c724b47cbadd94f686dfdc\n",
            "  Stored in directory: /root/.cache/pip/wheels/37/09/e1/49ee45c0ce248a6e9c986aae82d32bbcba09c9f3b9d0c3406a\n",
            "Successfully built minisom statistics\n",
            "Installing collected packages: statistics, minisom, smote-variants\n",
            "Successfully installed minisom-2.3.0 smote-variants-0.4.0 statistics-1.0.3.5\n"
          ]
        }
      ],
      "source": [
        "pip install smote_variants"
      ]
    },
    {
      "cell_type": "code",
      "execution_count": null,
      "metadata": {
        "colab": {
          "base_uri": "https://localhost:8080/"
        },
        "id": "bdgO9sZon9nW",
        "outputId": "22ab2866-56d8-4afe-b488-76ca78021366"
      },
      "outputs": [
        {
          "output_type": "stream",
          "name": "stdout",
          "text": [
            "Looking in indexes: https://pypi.org/simple, https://us-python.pkg.dev/colab-wheels/public/simple/\n",
            "Collecting imbalanced_databases\n",
            "  Downloading imbalanced_databases-0.1.1-py3-none-any.whl (4.3 MB)\n",
            "\u001b[K     |████████████████████████████████| 4.3 MB 5.1 MB/s \n",
            "\u001b[?25hRequirement already satisfied: pandas in /usr/local/lib/python3.7/dist-packages (from imbalanced_databases) (1.3.5)\n",
            "Requirement already satisfied: sklearn in /usr/local/lib/python3.7/dist-packages (from imbalanced_databases) (0.0)\n",
            "Requirement already satisfied: scipy in /usr/local/lib/python3.7/dist-packages (from imbalanced_databases) (1.4.1)\n",
            "Requirement already satisfied: numpy in /usr/local/lib/python3.7/dist-packages (from imbalanced_databases) (1.21.6)\n",
            "Requirement already satisfied: python-dateutil>=2.7.3 in /usr/local/lib/python3.7/dist-packages (from pandas->imbalanced_databases) (2.8.2)\n",
            "Requirement already satisfied: pytz>=2017.3 in /usr/local/lib/python3.7/dist-packages (from pandas->imbalanced_databases) (2022.1)\n",
            "Requirement already satisfied: six>=1.5 in /usr/local/lib/python3.7/dist-packages (from python-dateutil>=2.7.3->pandas->imbalanced_databases) (1.15.0)\n",
            "Requirement already satisfied: scikit-learn in /usr/local/lib/python3.7/dist-packages (from sklearn->imbalanced_databases) (1.0.2)\n",
            "Requirement already satisfied: joblib>=0.11 in /usr/local/lib/python3.7/dist-packages (from scikit-learn->sklearn->imbalanced_databases) (1.1.0)\n",
            "Requirement already satisfied: threadpoolctl>=2.0.0 in /usr/local/lib/python3.7/dist-packages (from scikit-learn->sklearn->imbalanced_databases) (3.1.0)\n",
            "Installing collected packages: imbalanced-databases\n",
            "Successfully installed imbalanced-databases-0.1.1\n"
          ]
        }
      ],
      "source": [
        "pip install imbalanced_databases"
      ]
    },
    {
      "cell_type": "code",
      "execution_count": null,
      "metadata": {
        "colab": {
          "base_uri": "https://localhost:8080/"
        },
        "id": "gx8UXDzIoGGE",
        "outputId": "fda79013-867d-408e-c0a1-45162b2866f6"
      },
      "outputs": [
        {
          "output_type": "stream",
          "name": "stdout",
          "text": [
            "Looking in indexes: https://pypi.org/simple, https://us-python.pkg.dev/colab-wheels/public/simple/\n",
            "Requirement already satisfied: imbalanced-learn in /usr/local/lib/python3.7/dist-packages (0.8.1)\n",
            "Requirement already satisfied: scikit-learn>=0.24 in /usr/local/lib/python3.7/dist-packages (from imbalanced-learn) (1.0.2)\n",
            "Requirement already satisfied: joblib>=0.11 in /usr/local/lib/python3.7/dist-packages (from imbalanced-learn) (1.1.0)\n",
            "Requirement already satisfied: scipy>=0.19.1 in /usr/local/lib/python3.7/dist-packages (from imbalanced-learn) (1.4.1)\n",
            "Requirement already satisfied: numpy>=1.13.3 in /usr/local/lib/python3.7/dist-packages (from imbalanced-learn) (1.21.6)\n",
            "Requirement already satisfied: threadpoolctl>=2.0.0 in /usr/local/lib/python3.7/dist-packages (from scikit-learn>=0.24->imbalanced-learn) (3.1.0)\n"
          ]
        }
      ],
      "source": [
        "pip install imbalanced-learn"
      ]
    },
    {
      "cell_type": "code",
      "execution_count": null,
      "metadata": {
        "id": "-Ky6d7lFoV0X"
      },
      "outputs": [],
      "source": [
        "import smote_variants as sv\n",
        "import pandas  as pd\n",
        "import matplotlib.pyplot as plt\n",
        "import numpy as np\n",
        "import imbalanced_databases as imbd\n",
        "from sklearn import metrics\n",
        "\n",
        "from sklearn.metrics import roc_curve, auc, roc_auc_score\n",
        "from sklearn.metrics import confusion_matrix\n",
        "from sklearn import metrics\n",
        "from sklearn.metrics import plot_roc_curve\n",
        "from imblearn.over_sampling import SMOTE\n",
        "\n",
        "%matplotlib inline\n",
        "from sklearn.model_selection import train_test_split"
      ]
    },
    {
      "cell_type": "code",
      "execution_count": null,
      "metadata": {
        "id": "TKrBuN1voigw"
      },
      "outputs": [],
      "source": [
        "df_train = pd.read_csv('/content/ml_dataset.csv')"
      ]
    },
    {
      "cell_type": "code",
      "execution_count": null,
      "metadata": {
        "id": "IlaaEzueooW_"
      },
      "outputs": [],
      "source": [
        "df = df_train.copy()\n",
        "df.drop(['Unnamed: 0'],inplace=True,axis=1)"
      ]
    },
    {
      "cell_type": "code",
      "execution_count": null,
      "metadata": {
        "id": "6fJRwWJNpS-1"
      },
      "outputs": [],
      "source": [
        "df_attack = df[df['attack'] == 1]"
      ]
    },
    {
      "cell_type": "code",
      "execution_count": null,
      "metadata": {
        "id": "Fb8GSv_UqYXm"
      },
      "outputs": [],
      "source": [
        "df_normal = df[df['attack'] == 0]"
      ]
    },
    {
      "cell_type": "code",
      "execution_count": null,
      "metadata": {
        "colab": {
          "base_uri": "https://localhost:8080/",
          "height": 344
        },
        "id": "T7pgsEdBqcF5",
        "outputId": "c0ece844-316e-4527-a001-e07845e61d84"
      },
      "outputs": [
        {
          "output_type": "execute_result",
          "data": {
            "text/plain": [
              "1    1926608\n",
              "0        477\n",
              "Name: attack, dtype: int64"
            ]
          },
          "metadata": {},
          "execution_count": 32
        },
        {
          "output_type": "display_data",
          "data": {
            "text/plain": [
              "<Figure size 432x288 with 1 Axes>"
            ],
            "image/png": "[encoded data removed]"
          },
          "metadata": {
            "needs_background": "light"
          }
        }
      ],
      "source": [
        "pd.value_counts(df['attack']).plot.bar()\n",
        "plt.title('Attack histogram')\n",
        "plt.xlabel('attack')\n",
        "plt.ylabel('Value')\n",
        "df['attack'].value_counts()"
      ]
    },
    {
      "cell_type": "code",
      "execution_count": null,
      "metadata": {
        "id": "8nHvzFXYrQg4"
      },
      "outputs": [],
      "source": [
        "def plot_roc_curve(fpr, tpr):\n",
        "    plt.plot(fpr, tpr, color='orange', label='ROC')\n",
        "    plt.plot([0, 1], [0, 1], color='darkblue', linestyle='--')\n",
        "    plt.xlabel('False Positive Rate')\n",
        "    plt.ylabel('True Positive Rate')\n",
        "    plt.title('Receiver Operating Characteristic (ROC) Curve')\n",
        "    plt.legend()\n",
        "    plt.show()\n",
        "    \n",
        "# Used for classification of dataset.\n",
        "def classif_results(): \n",
        "  conf_mat = confusion_matrix(y_true=y_test, y_pred=y_pred)\n",
        "  print('Confusion matrix:\\n', conf_mat)\n",
        "\n",
        "  labels = ['Class 0', 'Class 1']\n",
        "  fig = plt.figure()\n",
        "  ax = fig.add_subplot(111)\n",
        "  cax = ax.matshow(conf_mat, cmap=plt.cm.Blues)\n",
        "  fig.colorbar(cax)\n",
        "  ax.set_xticklabels([''] + labels)\n",
        "  ax.set_yticklabels([''] + labels)\n",
        "  plt.xlabel('Predicted')\n",
        "  plt.ylabel('Expected')\n",
        "  plt.show()\n",
        "\n",
        "  print(\"Accuracy\", metrics.accuracy_score(y_test, y_pred))\n",
        "\n",
        "  from sklearn.metrics import classification_report\n",
        "  print(classification_report(y_test, y_pred))\n",
        "\n",
        "  auc = roc_auc_score(y_test, y_pred)\n",
        "  print(\"AUC Score: \")\n",
        "  print(auc)\n",
        "\n",
        "  fpr, tpr, thresholds = roc_curve(y_test, y_pred)\n",
        "  plot_roc_curve(fpr, tpr)\n",
        "\n",
        "# Used for splitting and normalizing dataset.\n"
      ]
    },
    {
      "cell_type": "code",
      "source": [
        ""
      ],
      "metadata": {
        "id": "Yr-xe7JXq8O_"
      },
      "execution_count": null,
      "outputs": []
    },
    {
      "cell_type": "code",
      "execution_count": null,
      "metadata": {
        "id": "Qql_zfPz07yc"
      },
      "outputs": [],
      "source": [
        "X = df.iloc[:, df.columns != 'attack']\n",
        "y = df.iloc[:, df.columns == 'attack']\n",
        "X, y = SMOTE().fit_resample(X, y)"
      ]
    },
    {
      "cell_type": "code",
      "source": [
        "from sklearn.model_selection import train_test_split\n",
        "X_train, X_test, y_train, y_test = train_test_split(X,y, test_size =0.4, random_state =0)\n",
        "from sklearn.preprocessing import StandardScaler\n",
        "sc_X = StandardScaler()\n",
        "X_train = sc_X.fit_transform(X_train)\n",
        "X_test = sc_X.transform(X_test)"
      ],
      "metadata": {
        "id": "UuiYsRFHrSjq"
      },
      "execution_count": null,
      "outputs": []
    },
    {
      "cell_type": "code",
      "source": [
        "from sklearn.tree import DecisionTreeClassifier\n",
        "clf_model = DecisionTreeClassifier(criterion=\"gini\", random_state=0,max_depth=1, min_samples_leaf=2)   \n",
        "clf_model.fit(X_train,y_train)\n",
        "y_pred = clf_model.predict(X_test)\n",
        "classif_results()"
      ],
      "metadata": {
        "colab": {
          "base_uri": "https://localhost:8080/",
          "height": 817
        },
        "id": "r3Iu-85O-b0Z",
        "outputId": "cead10c8-6d34-4ca9-a556-4e85a9300685"
      },
      "execution_count": null,
      "outputs": [
        {
          "output_type": "stream",
          "name": "stdout",
          "text": [
            "Confusion matrix:\n",
            " [[771021    363]\n",
            " [   902 769001]]\n"
          ]
        },
        {
          "output_type": "display_data",
          "data": {
            "text/plain": [
              "<Figure size 432x288 with 2 Axes>"
            ],
            "image/png": "[encoded data removed]"
          },
          "metadata": {
            "needs_background": "light"
          }
        },
        {
          "output_type": "stream",
          "name": "stdout",
          "text": [
            "Accuracy 0.9991792573349415\n",
            "              precision    recall  f1-score   support\n",
            "\n",
            "           0       1.00      1.00      1.00    771384\n",
            "           1       1.00      1.00      1.00    769903\n",
            "\n",
            "    accuracy                           1.00   1541287\n",
            "   macro avg       1.00      1.00      1.00   1541287\n",
            "weighted avg       1.00      1.00      1.00   1541287\n",
            "\n",
            "AUC Score: \n",
            "0.9991789205478125\n"
          ]
        },
        {
          "output_type": "display_data",
          "data": {
            "text/plain": [
              "<Figure size 432x288 with 1 Axes>"
            ],
            "image/png": "[encoded data removed]"
          },
          "metadata": {
            "needs_background": "light"
          }
        }
      ]
    },
    {
      "cell_type": "code",
      "execution_count": null,
      "metadata": {
        "colab": {
          "base_uri": "https://localhost:8080/",
          "height": 872
        },
        "id": "CsDuW6XfEyzv",
        "outputId": "22afbb9b-4a8b-4bc0-f8f2-2ae229da358e"
      },
      "outputs": [
        {
          "output_type": "stream",
          "name": "stderr",
          "text": [
            "/usr/local/lib/python3.7/dist-packages/sklearn/utils/validation.py:993: DataConversionWarning: A column-vector y was passed when a 1d array was expected. Please change the shape of y to (n_samples, ), for example using ravel().\n",
            "  y = column_or_1d(y, warn=True)\n"
          ]
        },
        {
          "output_type": "stream",
          "name": "stdout",
          "text": [
            "Confusion matrix:\n",
            " [[578600      0]\n",
            " [   615 576750]]\n"
          ]
        },
        {
          "output_type": "display_data",
          "data": {
            "text/plain": [
              "<Figure size 432x288 with 2 Axes>"
            ],
            "image/png": "[encoded data removed]"
          },
          "metadata": {
            "needs_background": "light"
          }
        },
        {
          "output_type": "stream",
          "name": "stdout",
          "text": [
            "Accuracy 0.9994679769716212\n",
            "              precision    recall  f1-score   support\n",
            "\n",
            "           0       1.00      1.00      1.00    578600\n",
            "           1       1.00      1.00      1.00    577365\n",
            "\n",
            "    accuracy                           1.00   1155965\n",
            "   macro avg       1.00      1.00      1.00   1155965\n",
            "weighted avg       1.00      1.00      1.00   1155965\n",
            "\n",
            "AUC Score: \n",
            "0.9994674079654984\n"
          ]
        },
        {
          "output_type": "display_data",
          "data": {
            "text/plain": [
              "<Figure size 432x288 with 1 Axes>"
            ],
            "image/png": "[encoded data removed]"
          },
          "metadata": {
            "needs_background": "light"
          }
        }
      ],
      "source": [
        "from sklearn.model_selection import train_test_split\n",
        "X_train, X_test, y_train, y_test = train_test_split(X,y, test_size =0.3, random_state =0)\n",
        "from sklearn.preprocessing import StandardScaler\n",
        "sc_X = StandardScaler()\n",
        "X_train = sc_X.fit_transform(X_train)\n",
        "X_test = sc_X.transform(X_test)\n",
        "from sklearn.naive_bayes import GaussianNB\n",
        "classifier = GaussianNB()\n",
        "classifier.fit(X_train, y_train)\n",
        "y_pred = classifier.predict(X_test)\n",
        "from sklearn.metrics import confusion_matrix\n",
        "cm = confusion_matrix(y_test,y_pred)\n",
        "classif_results()"
      ]
    },
    {
      "cell_type": "code",
      "source": [
        "from sklearn.ensemble import RandomForestClassifier\n",
        "classifier = RandomForestClassifier(n_estimators = 10,max_depth=1)\n",
        "classifier.fit(X_train, y_train)\n",
        "y_pred = classifier.predict(X_test)\n",
        "classif_results()"
      ],
      "metadata": {
        "colab": {
          "base_uri": "https://localhost:8080/",
          "height": 872
        },
        "id": "AksS8wCFft3I",
        "outputId": "383586db-df97-479a-9e5d-15711d0801eb"
      },
      "execution_count": null,
      "outputs": [
        {
          "output_type": "stream",
          "name": "stderr",
          "text": [
            "/usr/local/lib/python3.7/dist-packages/ipykernel_launcher.py:3: DataConversionWarning: A column-vector y was passed when a 1d array was expected. Please change the shape of y to (n_samples,), for example using ravel().\n",
            "  This is separate from the ipykernel package so we can avoid doing imports until\n"
          ]
        },
        {
          "output_type": "stream",
          "name": "stdout",
          "text": [
            "Confusion matrix:\n",
            " [[523615  54985]\n",
            " [   111 577254]]\n"
          ]
        },
        {
          "output_type": "display_data",
          "data": {
            "text/plain": [
              "<Figure size 432x288 with 2 Axes>"
            ],
            "image/png": "[encoded data removed]"
          },
          "metadata": {
            "needs_background": "light"
          }
        },
        {
          "output_type": "stream",
          "name": "stdout",
          "text": [
            "Accuracy 0.9523376572820111\n",
            "              precision    recall  f1-score   support\n",
            "\n",
            "           0       1.00      0.90      0.95    578600\n",
            "           1       0.91      1.00      0.95    577365\n",
            "\n",
            "    accuracy                           0.95   1155965\n",
            "   macro avg       0.96      0.95      0.95   1155965\n",
            "weighted avg       0.96      0.95      0.95   1155965\n",
            "\n",
            "AUC Score: \n",
            "0.9523883188453793\n"
          ]
        },
        {
          "output_type": "display_data",
          "data": {
            "text/plain": [
              "<Figure size 432x288 with 1 Axes>"
            ],
            "image/png": "[encoded data removed]"
          },
          "metadata": {
            "needs_background": "light"
          }
        }
      ]
    },
    {
      "cell_type": "code",
      "source": [
        "from sklearn.svm import SVC\n",
        "classifier = SVC()\n",
        "classifier.fit(X_train, y_train)\n",
        "y_pred = classifier.predict(X_test)\n",
        "from sklearn.metrics import confusion_matrix\n",
        "cm = confusion_matrix(y_test,y_pred)\n",
        "classif_results()"
      ],
      "metadata": {
        "colab": {
          "base_uri": "https://localhost:8080/",
          "height": 872
        },
        "id": "tp6UQIn0vh05",
        "outputId": "59e12414-5486-40bf-af3e-2f5989b3706f"
      },
      "execution_count": null,
      "outputs": [
        {
          "output_type": "stream",
          "name": "stderr",
          "text": [
            "/usr/local/lib/python3.7/dist-packages/sklearn/utils/validation.py:993: DataConversionWarning: A column-vector y was passed when a 1d array was expected. Please change the shape of y to (n_samples, ), for example using ravel().\n",
            "  y = column_or_1d(y, warn=True)\n"
          ]
        },
        {
          "output_type": "stream",
          "name": "stdout",
          "text": [
            "Confusion matrix:\n",
            " [[578600      0]\n",
            " [    45 577320]]\n"
          ]
        },
        {
          "output_type": "display_data",
          "data": {
            "text/plain": [
              "<Figure size 432x288 with 2 Axes>"
            ],
            "image/png": "[encoded data removed]"
          },
          "metadata": {
            "needs_background": "light"
          }
        },
        {
          "output_type": "stream",
          "name": "stdout",
          "text": [
            "Accuracy 0.9999610714857283\n",
            "              precision    recall  f1-score   support\n",
            "\n",
            "           0       1.00      1.00      1.00    578600\n",
            "           1       1.00      1.00      1.00    577365\n",
            "\n",
            "    accuracy                           1.00   1155965\n",
            "   macro avg       1.00      1.00      1.00   1155965\n",
            "weighted avg       1.00      1.00      1.00   1155965\n",
            "\n",
            "AUC Score: \n",
            "0.9999610298511341\n"
          ]
        },
        {
          "output_type": "display_data",
          "data": {
            "text/plain": [
              "<Figure size 432x288 with 1 Axes>"
            ],
            "image/png": "[encoded data removed]"
          },
          "metadata": {
            "needs_background": "light"
          }
        }
      ]
    },
    {
      "cell_type": "code",
      "source": [
        "from sklearn.ensemble import VotingClassifier\n",
        "from sklearn.naive_bayes import GaussianNB\n",
        "from sklearn.ensemble import RandomForestClassifier\n",
        "from sklearn.svm import SVC\n",
        "from sklearn.tree import DecisionTreeClassifier\n",
        "model1 = SVC()\n",
        "model2 =GaussianNB () \n",
        "model3=DecisionTreeClassifier()\n",
        "model4=RandomForestClassifier()\n",
        "model = VotingClassifier(estimators=[('sv',model1),('na', model2),('dc',model3),('rf',model4)], voting='hard')\n",
        "model.fit(X_train,y_train)\n",
        "model.score(X_test,y_test)"
      ],
      "metadata": {
        "colab": {
          "base_uri": "https://localhost:8080/"
        },
        "id": "qb20cyby18Q3",
        "outputId": "b717f0e2-7e44-4f0c-fc91-f0871b8ebdfe"
      },
      "execution_count": null,
      "outputs": [
        {
          "metadata": {
            "tags": null
          },
          "name": "stderr",
          "output_type": "stream",
          "text": [
            "/usr/local/lib/python3.7/dist-packages/sklearn/preprocessing/_label.py:98: DataConversionWarning: A column-vector y was passed when a 1d array was expected. Please change the shape of y to (n_samples, ), for example using ravel().\n",
            "  y = column_or_1d(y, warn=True)\n",
            "/usr/local/lib/python3.7/dist-packages/sklearn/preprocessing/_label.py:133: DataConversionWarning: A column-vector y was passed when a 1d array was expected. Please change the shape of y to (n_samples, ), for example using ravel().\n",
            "  y = column_or_1d(y, warn=True)\n"
          ]
        },
        {
          "output_type": "execute_result",
          "data": {
            "text/plain": [
              "0.9999610714857283"
            ]
          },
          "metadata": {},
          "execution_count": 103
        }
      ]
    }
  ],
  "metadata": {
    "colab": {
      "collapsed_sections": [],
      "name": "DDoS ORG.ipynb",
      "provenance": [],
      "mount_file_id": "1oLLpyuEpvnzCTPCwNfqL2ymxZQh6wnpF",
      "authorship_tag": "ABX9TyPOsFH8kbK+1CKWCHXSUeGG",
      "include_colab_link": true
    },
    "kernelspec": {
      "display_name": "Python 3",
      "name": "python3"
    },
    "language_info": {
      "name": "python"
    }
  },
  "nbformat": 4,
  "nbformat_minor": 0
}